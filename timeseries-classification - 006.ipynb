{
 "cells": [
  {
   "cell_type": "markdown",
   "id": "ecc3274c",
   "metadata": {},
   "source": [
    "# Libs"
   ]
  },
  {
   "cell_type": "code",
   "execution_count": null,
   "id": "d49e133c",
   "metadata": {},
   "outputs": [],
   "source": [
    "import pandas as pd\n",
    "import numpy as np\n",
    "import xgboost as xgb\n",
    "from sklearn.metrics import f1_score, precision_score, recall_score, average_precision_score, accuracy_score\n",
    "from sklearn.model_selection import KFold, cross_val_score\n",
    "from sklearn.ensemble import RandomForestClassifier\n",
    "from tslearn.neighbors import KNeighborsTimeSeriesClassifier\n",
    "import tensorflow as tf\n",
    "from tensorflow.keras.models import Model\n",
    "from tensorflow.keras.layers import Input, Conv1D, LSTM, Dense, Dropout, GlobalMaxPooling1D, LayerNormalization, MultiHeadAttention, Add, Flatten, Concatenate\n",
    "from sklearn.model_selection import TimeSeriesSplit\n",
    "from sklearn.preprocessing import StandardScaler\n",
    "import plotly.graph_objects as go\n",
    "from utils.futurai_ppd import drop_transitorio_desligado\n",
    "import matplotlib.pyplot as plt\n",
    "from sktime.datatypes._panel._convert import from_2d_array_to_nested\n",
    "\n",
    "import warnings\n",
    "import os\n",
    "warnings.filterwarnings('ignore')"
   ]
  },
  {
   "cell_type": "markdown",
   "id": "ea05d315",
   "metadata": {},
   "source": [
    "# Import dataset"
   ]
  },
  {
   "cell_type": "code",
   "execution_count": null,
   "id": "4d79ec9a",
   "metadata": {},
   "outputs": [],
   "source": [
    "base_name = 'Depurador 762-28-006'\n",
    "timestamp = \"Timestamp\"\n",
    "\n",
    "df_dataset = pd.read_csv('data/' + base_name + '.csv', sep=\";\", decimal=\".\", encoding=\"utf-8-sig\")\n",
    "df_dataset[timestamp] = pd.to_datetime(df_dataset[timestamp], format=\"%Y-%m-%d %H:%M:%S\")\n",
    "df_dataset.drop(columns=[\"762H0336.PV\", \"762H0342.PV\", \"762N0015.SP\", \"762P0013.SP\"], inplace=True)\n",
    "df_dataset.dropna(inplace=True)\n",
    "print(f\"Dataset shape: {df_dataset.shape}\")\n",
    "df_dataset.head()"
   ]
  },
  {
   "cell_type": "markdown",
   "id": "bb88f78a",
   "metadata": {},
   "source": [
    "## Remove periods Off"
   ]
  },
  {
   "cell_type": "code",
   "execution_count": null,
   "id": "5447ead7",
   "metadata": {},
   "outputs": [],
   "source": [
    "pre_process = []\n",
    "pp_var_ref_desligado = \"762-28-006.CR\"\n",
    "pp_valor_ref_desligado = 5\n",
    "pp_tempo_ref_desligado = 0\n",
    "pp_pre_corte_transitorio = 0\n",
    "pp_pos_corte_transitorio = 0\n",
    "pre_process.append(  \n",
    "{\n",
    "   \"after_cut\": pp_pos_corte_transitorio,\n",
    "   \"interval_off\": pp_tempo_ref_desligado,\n",
    "   \"limit_off\": pp_valor_ref_desligado,\n",
    "   \"pre_cut\": pp_pre_corte_transitorio,\n",
    "   \"variable_off\": pp_var_ref_desligado\n",
    "  })\n",
    "\n",
    "for pro in pre_process:\n",
    "    df_dataset,_,_ = drop_transitorio_desligado(df_dataset,pro[\"variable_off\"],pro[\"limit_off\"],pro[\"interval_off\"],timestamp,pre_corte=pro[\"pre_cut\"],pos_corte=pro[\"after_cut\"])\n",
    "print(f\"Dataset shape: {df_dataset.shape}\")\n",
    "df_dataset.head()"
   ]
  },
  {
   "cell_type": "markdown",
   "id": "570e0243",
   "metadata": {},
   "source": [
    "## Create label for anomaly"
   ]
  },
  {
   "cell_type": "code",
   "execution_count": null,
   "id": "4c599f00",
   "metadata": {},
   "outputs": [],
   "source": [
    "periodos_de_Falhas = [\n",
    "    (pd.Timestamp('2024-05-03 11:00:00'), pd.Timestamp('2024-05-03 11:35:00')),\n",
    "    (pd.Timestamp('2024-06-25 17:20:00'), pd.Timestamp('2024-08-02 14:00:00')),\n",
    "    (pd.Timestamp('2024-10-19 10:40:00'), pd.Timestamp('2024-10-19 10:50:00')),\n",
    "    (pd.Timestamp('2024-10-19 10:40:00'), pd.Timestamp('2024-10-19 10:50:00')),\n",
    "    (pd.Timestamp('2024-10-21 12:00:00'), pd.Timestamp('2024-10-22 00:35:00')),\n",
    "    (pd.Timestamp('2024-10-24 03:10:00'), pd.Timestamp('2024-10-27 00:00:00')),\n",
    "    (pd.Timestamp('2024-11-14 06:40:00'), pd.Timestamp('2024-11-14 19:45:00')),\n",
    "    (pd.Timestamp('2024-11-25 21:45:00'), pd.Timestamp('2024-11-25 22:03:00')),\n",
    "    (pd.Timestamp('2024-11-27 15:00:00'), pd.Timestamp('2024-11-27 15:07:00')),\n",
    "    (pd.Timestamp('2024-11-27 16:04:00'), pd.Timestamp('2024-11-26 16:11:00')),\n",
    "    (pd.Timestamp('2024-11-30 13:30:00'), pd.Timestamp('2024-11-30 15:52:00')),\n",
    "    (pd.Timestamp('2024-12-09 20:30:00'), pd.Timestamp('2024-12-11 07:00:00')),\n",
    "    (pd.Timestamp('2025-03-05 15:17:00'), pd.Timestamp('2025-03-05 15:24:00')),\n",
    "    (pd.Timestamp('2025-03-15 18:30:00'), pd.Timestamp('2025-03-15 19:15:00')),\n",
    "    (pd.Timestamp('2025-03-18 11:40:00'), pd.Timestamp('2025-03-18 20:00:00')),\n",
    "    (pd.Timestamp('2025-06-16 15:20:00'), pd.Timestamp('2025-06-17 07:38:00')),\n",
    "]\n",
    "\n",
    "# Inicializa a nova coluna com valor 0\n",
    "df_dataset['Falhas'] = 0\n",
    "\n",
    "# Para cada período de Falhas, marca os índices onde o timestamp está dentro desse período\n",
    "for inicio, fim in periodos_de_Falhas:\n",
    "    df_dataset.loc[(df_dataset[timestamp] >= inicio) & (df_dataset[timestamp] <= fim), 'Falhas'] = 1\n",
    "    \n",
    "df_dataset"
   ]
  },
  {
   "cell_type": "markdown",
   "id": "8d334e30",
   "metadata": {},
   "source": [
    "## Import TAGs and descriptions"
   ]
  },
  {
   "cell_type": "code",
   "execution_count": null,
   "id": "09e9acf6",
   "metadata": {},
   "outputs": [],
   "source": [
    "df_subsistema = pd.read_csv('data/'+ base_name + '_subsistema.csv', sep=\";\", decimal=\".\", encoding=\"utf-8-sig\")\n",
    "df_subsistema"
   ]
  },
  {
   "cell_type": "markdown",
   "id": "48b24605",
   "metadata": {},
   "source": [
    "## Plot variables"
   ]
  },
  {
   "cell_type": "code",
   "execution_count": null,
   "id": "128f46d8",
   "metadata": {},
   "outputs": [],
   "source": [
    "fig = go.Figure()\n",
    "fig.add_trace(go.Scatter(\n",
    "    x=df_dataset['Timestamp'], \n",
    "    y=df_dataset[\"762P0034.PV\"], \n",
    "    mode='lines', \n",
    "    name='762P0034.PV',\n",
    "    line=dict(color='black')\n",
    "))\n",
    "\n",
    "fig.add_trace(go.Scatter(\n",
    "    x=df_dataset['Timestamp'], \n",
    "    y=df_dataset[\"Falhas\"], \n",
    "    mode='lines', \n",
    "    name='Falhas',\n",
    "    line=dict(color='red')\n",
    "))\n",
    "\n",
    "fig.update_layout(\n",
    "    template='plotly_white',\n",
    "    hovermode='x unified'\n",
    ")\n",
    "fig.show()"
   ]
  },
  {
   "cell_type": "markdown",
   "id": "cd0293f3",
   "metadata": {},
   "source": [
    "# Random Forest Approach v1"
   ]
  },
  {
   "cell_type": "markdown",
   "id": "b8c191ee",
   "metadata": {},
   "source": [
    "## Data Train"
   ]
  },
  {
   "cell_type": "code",
   "execution_count": null,
   "id": "debad98e",
   "metadata": {},
   "outputs": [],
   "source": [
    "start_date = pd.to_datetime(\"2024-05-03 09:00:00\")\n",
    "end_date = pd.to_datetime(\"2024-05-03 14:00:00\")\n",
    "mask = (df_dataset[timestamp] >= start_date) & (df_dataset[timestamp] <= end_date)\n",
    "df_train = df_dataset.loc[mask]\n",
    "print(df_train.shape)\n",
    "\n",
    "start_date = pd.to_datetime(\"2024-07-27 06:00:00\")\n",
    "end_date = pd.to_datetime(\"2024-07-27 13:00:00\")\n",
    "mask = (df_dataset[timestamp] >= start_date) & (df_dataset[timestamp] <= end_date)\n",
    "df_train2 = df_dataset.loc[mask]\n",
    "df_train = pd.concat([df_train, df_train2])\n",
    "print(df_train.shape)\n",
    "\n",
    "start_date = pd.to_datetime(\"2025-06-16 12:00:00\")\n",
    "end_date = pd.to_datetime(\"2025-06-16 21:00:00\")\n",
    "mask = (df_dataset[timestamp] >= start_date) & (df_dataset[timestamp] <= end_date)\n",
    "df_train3 = df_dataset.loc[mask]\n",
    "df_train = pd.concat([df_train, df_train3])\n",
    "print(df_train.shape)\n",
    "\n",
    "start_date = pd.to_datetime(\"2024-09-09 08:00:00\")\n",
    "end_date = pd.to_datetime(\"2024-09-09 14:00:00\")\n",
    "mask = (df_dataset[timestamp] >= start_date) & (df_dataset[timestamp] <= end_date)\n",
    "df_train4 = df_dataset.loc[mask]\n",
    "df_train = pd.concat([df_train, df_train4])\n",
    "print(df_train.shape)\n",
    "\n",
    "start_date = pd.to_datetime(\"2024-06-30 12:00:00\")\n",
    "end_date = pd.to_datetime(\"2024-07-01 12:00:00\")\n",
    "mask = (df_dataset[timestamp] >= start_date) & (df_dataset[timestamp] <= end_date)\n",
    "df_train5 = df_dataset.loc[mask]\n",
    "df_train = pd.concat([df_train, df_train5])\n",
    "print(df_train.shape)\n",
    "\n",
    "start_date = pd.to_datetime(\"2024-03-04 00:00:00\")\n",
    "end_date = pd.to_datetime(\"2024-03-05 00:00:00\")\n",
    "mask = (df_dataset[timestamp] >= start_date) & (df_dataset[timestamp] <= end_date)\n",
    "df_train6 = df_dataset.loc[mask]\n",
    "df_train = pd.concat([df_train, df_train6])\n",
    "print(df_train.shape)"
   ]
  },
  {
   "cell_type": "code",
   "execution_count": null,
   "id": "7c8e1d10",
   "metadata": {},
   "outputs": [],
   "source": [
    "print(\"Falhas Train:\",df_train[df_train[\"Falhas\"]==1].shape[0])\n",
    "print(\"Normal Train:\",df_train[df_train[\"Falhas\"]==0].shape[0])"
   ]
  },
  {
   "cell_type": "markdown",
   "id": "ac0f9017",
   "metadata": {},
   "source": [
    "## Data Test"
   ]
  },
  {
   "cell_type": "code",
   "execution_count": null,
   "id": "4b5ef3ff",
   "metadata": {},
   "outputs": [],
   "source": [
    "start_date = pd.to_datetime(\"2024-10-20 00:00:00\")\n",
    "end_date = pd.to_datetime(\"2024-10-27 00:00:00\")\n",
    "\n",
    "mask = (df_dataset[timestamp] >= start_date) & (df_dataset[timestamp] <= end_date)\n",
    "df_test = df_dataset.loc[mask]\n",
    "df_test.shape"
   ]
  },
  {
   "cell_type": "code",
   "execution_count": null,
   "id": "14839384",
   "metadata": {},
   "outputs": [],
   "source": [
    "print(\"Falhas Test:\",df_test[df_test[\"Falhas\"]==1].shape[0])\n",
    "print(\"Normal Test:\",df_test[df_test[\"Falhas\"]==0].shape[0])"
   ]
  },
  {
   "cell_type": "markdown",
   "id": "3f87ea06",
   "metadata": {},
   "source": [
    "## Base Scalling"
   ]
  },
  {
   "cell_type": "code",
   "execution_count": null,
   "id": "6f8a92ff",
   "metadata": {},
   "outputs": [],
   "source": [
    "## Train Scalling\n",
    "X_train = df_train.drop([timestamp,\"Falhas\"],axis=1)\n",
    "y_train = df_train[\"Falhas\"]\n",
    "\n",
    "train_mean = X_train.mean()\n",
    "train_std = X_train.std()\n",
    "\n",
    "X_train = (X_train - train_mean) / train_std\n",
    "\n",
    "\n",
    "## Test Scalling\n",
    "X_test = df_test.drop([timestamp,\"Falhas\"],axis=1)\n",
    "y_test = df_test[\"Falhas\"]\n",
    "X_test = (X_test - train_mean) / train_std"
   ]
  },
  {
   "cell_type": "markdown",
   "id": "6de1266e",
   "metadata": {},
   "source": [
    "## Fit Model"
   ]
  },
  {
   "cell_type": "code",
   "execution_count": null,
   "id": "242eef80",
   "metadata": {},
   "outputs": [],
   "source": [
    "rf_clf = RandomForestClassifier(n_estimators=400, criterion='gini', max_depth=None, min_samples_split=2, min_samples_leaf=1, min_weight_fraction_leaf=0.0, max_features='sqrt', max_leaf_nodes=None, min_impurity_decrease=0.0, bootstrap=True, oob_score=False, n_jobs=None, random_state=1, verbose=0, warm_start=False, class_weight=None, ccp_alpha=0.0, max_samples=None, monotonic_cst=None)\n",
    "\n",
    "k_folds = KFold(n_splits = 5)\n",
    "scores = cross_val_score(rf_clf, X_train, y_train, cv = k_folds)\n",
    "print(\"Cross Validation Scores: \", scores)\n",
    "print(\"Average CV Score: \", scores.mean())\n",
    "print(\"Number of CV Scores used in Average: \", len(scores))\n",
    "\n",
    "rf_clf.fit(X_train, y_train)"
   ]
  },
  {
   "cell_type": "markdown",
   "id": "d5d02896",
   "metadata": {},
   "source": [
    "## Predict"
   ]
  },
  {
   "cell_type": "code",
   "execution_count": null,
   "id": "2d1f34ec",
   "metadata": {},
   "outputs": [],
   "source": [
    "y_pred = rf_clf.predict(X_test)\n",
    "\n",
    "accuracy = accuracy_score(y_test, y_pred)\n",
    "f1 = f1_score(y_test, y_pred, average='weighted')\n",
    "recall = recall_score(y_test, y_pred, average='weighted')\n",
    "precision = precision_score(y_test, y_pred, average='weighted')\n",
    "\n",
    "print(f\"Accuracy: {accuracy:.4f}\")\n",
    "print(f\"F1 Score: {f1:.4f}\")\n",
    "print(f\"Recall: {recall:.4f}\")\n",
    "print(f\"Precision: {precision:.4f}\")"
   ]
  },
  {
   "cell_type": "code",
   "execution_count": null,
   "id": "39db0446",
   "metadata": {},
   "outputs": [],
   "source": [
    "plt.plot(y_pred)\n",
    "plt.plot(y_test.values)"
   ]
  },
  {
   "cell_type": "markdown",
   "id": "78b7a2af",
   "metadata": {},
   "source": [
    "# sktime"
   ]
  },
  {
   "cell_type": "code",
   "execution_count": null,
   "id": "a19d2695",
   "metadata": {},
   "outputs": [],
   "source": [
    "# X_train and X_test conversion to sktime format\n",
    "X_train_sktime = from_2d_array_to_nested(X_train.values)\n",
    "X_test_sktime = from_2d_array_to_nested(X_test.values)\n",
    "\n",
    "# Keep labels the same for sktime\n",
    "y_train_sktime = y_train\n",
    "y_test_sktime = y_test"
   ]
  },
  {
   "cell_type": "markdown",
   "id": "d2ba9a1c",
   "metadata": {},
   "source": [
    "## WEALSEL + MUSE"
   ]
  },
  {
   "cell_type": "code",
   "execution_count": null,
   "id": "44f6e202",
   "metadata": {},
   "outputs": [],
   "source": [
    "from sktime.classification.dictionary_based import MUSE\n",
    "\n",
    "muse_clf = MUSE(anova=True, variance=False, bigrams=True, window_inc=2, alphabet_size=4, use_first_order_differences=True, feature_selection='chi2', p_threshold=0.05, support_probabilities=False, n_jobs=1, random_state=1)\n",
    "muse_clf.fit(X_train_sktime, y_train_sktime)"
   ]
  },
  {
   "cell_type": "code",
   "execution_count": null,
   "id": "a95e5479",
   "metadata": {},
   "outputs": [],
   "source": [
    "y_pred_muse = muse_clf.predict(X_test_sktime)\n",
    "\n",
    "accuracy = accuracy_score(y_test_sktime, y_pred_muse)\n",
    "f1 = f1_score(y_test_sktime, y_pred_muse, average='weighted')\n",
    "recall = recall_score(y_test_sktime, y_pred_muse, average='weighted')\n",
    "precision = precision_score(y_test_sktime, y_pred_muse, average='weighted')\n",
    "\n",
    "print(f\"Accuracy: {accuracy:.4f}\")\n",
    "print(f\"F1 Score: {f1:.4f}\")\n",
    "print(f\"Recall: {recall:.4f}\")\n",
    "print(f\"Precision: {precision:.4f}\")"
   ]
  },
  {
   "cell_type": "markdown",
   "id": "d2092ee1",
   "metadata": {},
   "source": [
    "## ROCKET"
   ]
  },
  {
   "cell_type": "code",
   "execution_count": null,
   "id": "34818ab4",
   "metadata": {},
   "outputs": [],
   "source": [
    "from sktime.classification.kernel_based import RocketClassifier\n",
    "\n",
    "rocket_clf = RocketClassifier(num_kernels=10000, rocket_transform='rocket', max_dilations_per_kernel=32, n_features_per_kernel=4, use_multivariate='yes', n_jobs=1, random_state=1)\n",
    "rocket_clf.fit(X_train_sktime, y_train_sktime)"
   ]
  },
  {
   "cell_type": "code",
   "execution_count": null,
   "id": "96d43b43",
   "metadata": {},
   "outputs": [],
   "source": [
    "y_pred_rocket= rocket_clf.predict(X_test_sktime)\n",
    "\n",
    "accuracy = accuracy_score(y_test_sktime, y_pred_rocket)\n",
    "f1 = f1_score(y_test_sktime, y_pred_rocket, average='weighted')\n",
    "recall = recall_score(y_test_sktime, y_pred_rocket, average='weighted')\n",
    "precision = precision_score(y_test_sktime, y_pred_rocket, average='weighted')\n",
    "\n",
    "print(f\"Accuracy: {accuracy:.4f}\")\n",
    "print(f\"F1 Score: {f1:.4f}\")\n",
    "print(f\"Recall: {recall:.4f}\")\n",
    "print(f\"Precision: {precision:.4f}\")"
   ]
  },
  {
   "cell_type": "markdown",
   "id": "4bfd1f5b",
   "metadata": {},
   "source": [
    "## TimeMIL"
   ]
  },
  {
   "cell_type": "markdown",
   "metadata": {},
   "source": []
  }
 ],
 "metadata": {
  "kernelspec": {
   "display_name": ".venv",
   "language": "python",
   "name": "python3"
  },
  "language_info": {
   "codemirror_mode": {
    "name": "ipython",
    "version": 3
   },
   "file_extension": ".py",
   "mimetype": "text/x-python",
   "name": "python",
   "nbconvert_exporter": "python",
   "pygments_lexer": "ipython3",
   "version": "3.10.12"
  }
 },
 "nbformat": 4,
 "nbformat_minor": 5
}
