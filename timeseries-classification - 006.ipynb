{
 "cells": [
  {
   "cell_type": "markdown",
   "id": "ecc3274c",
   "metadata": {},
   "source": [
    "# Libs"
   ]
  },
  {
   "cell_type": "code",
   "execution_count": null,
   "id": "d49e133c",
   "metadata": {},
   "outputs": [],
   "source": [
    "import pandas as pd\n",
    "import numpy as np\n",
    "import xgboost as xgb\n",
    "from sklearn.metrics import f1_score, precision_score, recall_score, average_precision_score\n",
    "from tslearn.neighbors import KNeighborsTimeSeriesClassifier\n",
    "import tensorflow as tf\n",
    "from tensorflow.keras.models import Model\n",
    "from tensorflow.keras.layers import Input, Conv1D, LSTM, Dense, Dropout, GlobalMaxPooling1D, LayerNormalization, MultiHeadAttention, Add, Flatten, Concatenate\n",
    "from sklearn.model_selection import TimeSeriesSplit\n",
    "from sklearn.preprocessing import StandardScaler\n",
    "import plotly.graph_objects as go\n",
    "from utils.futurai_ppd import drop_transitorio_desligado\n",
    "\n",
    "import warnings\n",
    "import os\n",
    "warnings.filterwarnings('ignore')"
   ]
  },
  {
   "cell_type": "markdown",
   "id": "ea05d315",
   "metadata": {},
   "source": [
    "# Import dataset"
   ]
  },
  {
   "cell_type": "code",
   "execution_count": null,
   "id": "4d79ec9a",
   "metadata": {},
   "outputs": [],
   "source": [
    "base_name = 'Depurador 762-28-006'\n",
    "timestamp = \"Timestamp\"\n",
    "\n",
    "df_dataset = pd.read_csv('data/' + base_name + '.csv', sep=\";\", decimal=\".\", encoding=\"utf-8-sig\")\n",
    "df_dataset[timestamp] = pd.to_datetime(df_dataset[timestamp], format=\"%Y-%m-%d %H:%M:%S\")\n",
    "df_dataset.drop(columns=[\"762H0336.PV\", \"762H0342.PV\", \"762N0015.SP\", \"762P0013.SP\"], inplace=True)\n",
    "df_dataset.dropna(inplace=True)\n",
    "print(f\"Dataset shape: {df_dataset.shape}\")\n",
    "df_dataset.head()"
   ]
  },
  {
   "cell_type": "markdown",
   "id": "bb88f78a",
   "metadata": {},
   "source": [
    "## Remove periods Off"
   ]
  },
  {
   "cell_type": "code",
   "execution_count": null,
   "id": "5447ead7",
   "metadata": {},
   "outputs": [],
   "source": [
    "pre_process = []\n",
    "pp_var_ref_desligado = \"762-28-006.CR\"\n",
    "pp_valor_ref_desligado = 5\n",
    "pp_tempo_ref_desligado = 0\n",
    "pp_pre_corte_transitorio = 0\n",
    "pp_pos_corte_transitorio = 0\n",
    "pre_process.append(  \n",
    "{\n",
    "   \"after_cut\": pp_pos_corte_transitorio,\n",
    "   \"interval_off\": pp_tempo_ref_desligado,\n",
    "   \"limit_off\": pp_valor_ref_desligado,\n",
    "   \"pre_cut\": pp_pre_corte_transitorio,\n",
    "   \"variable_off\": pp_var_ref_desligado\n",
    "  })\n",
    "\n",
    "for pro in pre_process:\n",
    "    df_dataset,_,_ = drop_transitorio_desligado(df_dataset,pro[\"variable_off\"],pro[\"limit_off\"],pro[\"interval_off\"],timestamp,pre_corte=pro[\"pre_cut\"],pos_corte=pro[\"after_cut\"])\n",
    "print(f\"Dataset shape: {df_dataset.shape}\")\n",
    "df_dataset.head()"
   ]
  },
  {
   "cell_type": "markdown",
   "id": "570e0243",
   "metadata": {},
   "source": [
    "## Create label for anomaly"
   ]
  },
  {
   "cell_type": "code",
   "execution_count": null,
   "id": "4c599f00",
   "metadata": {},
   "outputs": [],
   "source": [
    "periodos_de_Falhas = [\n",
    "    (pd.Timestamp('2024-05-03 11:00:00'), pd.Timestamp('2024-05-03 11:35:00')),\n",
    "    (pd.Timestamp('2024-06-25 17:20:00'), pd.Timestamp('2024-08-02 14:00:00')),\n",
    "    (pd.Timestamp('2024-10-19 10:40:00'), pd.Timestamp('2024-10-19 10:50:00')),\n",
    "    (pd.Timestamp('2024-10-19 10:40:00'), pd.Timestamp('2024-10-19 10:50:00')),\n",
    "    (pd.Timestamp('2024-10-21 12:00:00'), pd.Timestamp('2024-10-22 00:35:00')),\n",
    "    (pd.Timestamp('2024-10-24 03:10:00'), pd.Timestamp('2024-10-27 00:00:00')),\n",
    "    (pd.Timestamp('2024-11-14 06:40:00'), pd.Timestamp('2024-11-14 19:45:00')),\n",
    "    (pd.Timestamp('2024-11-25 21:45:00'), pd.Timestamp('2024-11-25 22:03:00')),\n",
    "    (pd.Timestamp('2024-11-27 15:00:00'), pd.Timestamp('2024-11-27 15:07:00')),\n",
    "    (pd.Timestamp('2024-11-27 16:04:00'), pd.Timestamp('2024-11-26 16:11:00')),\n",
    "    (pd.Timestamp('2024-11-30 13:30:00'), pd.Timestamp('2024-11-30 15:52:00')),\n",
    "    (pd.Timestamp('2024-12-09 20:30:00'), pd.Timestamp('2024-12-11 07:00:00')),\n",
    "    (pd.Timestamp('2025-03-05 15:17:00'), pd.Timestamp('2025-03-05 15:24:00')),\n",
    "    (pd.Timestamp('2025-03-15 18:30:00'), pd.Timestamp('2025-03-15 19:15:00')),\n",
    "    (pd.Timestamp('2025-03-18 11:40:00'), pd.Timestamp('2025-03-18 20:00:00')),\n",
    "    (pd.Timestamp('2025-06-16 15:20:00'), pd.Timestamp('2025-06-17 07:38:00')),\n",
    "]\n",
    "\n",
    "# Inicializa a nova coluna com valor 0\n",
    "df_dataset['Falhas'] = 0\n",
    "\n",
    "# Para cada período de Falhas, marca os índices onde o timestamp está dentro desse período\n",
    "for inicio, fim in periodos_de_Falhas:\n",
    "    df_dataset.loc[(df_dataset[timestamp] >= inicio) & (df_dataset[timestamp] <= fim), 'Falhas'] = 1\n",
    "    \n",
    "df_dataset"
   ]
  },
  {
   "cell_type": "markdown",
   "id": "8d334e30",
   "metadata": {},
   "source": [
    "## Import TAGs and descriptions"
   ]
  },
  {
   "cell_type": "code",
   "execution_count": null,
   "id": "09e9acf6",
   "metadata": {},
   "outputs": [],
   "source": [
    "df_subsistema = pd.read_csv('data/'+ base_name + '_subsistema.csv', sep=\";\", decimal=\".\", encoding=\"utf-8-sig\")\n",
    "df_subsistema"
   ]
  },
  {
   "cell_type": "markdown",
   "id": "48b24605",
   "metadata": {},
   "source": [
    "## Plot variables"
   ]
  },
  {
   "cell_type": "code",
   "execution_count": null,
   "id": "128f46d8",
   "metadata": {},
   "outputs": [],
   "source": [
    "fig = go.Figure()\n",
    "fig.add_trace(go.Scatter(\n",
    "    x=df_dataset['Timestamp'], \n",
    "    y=df_dataset[\"762P0034.PV\"], \n",
    "    mode='lines', \n",
    "    name='762P0034.PV',\n",
    "    line=dict(color='black')\n",
    "))\n",
    "\n",
    "fig.add_trace(go.Scatter(\n",
    "    x=df_dataset['Timestamp'], \n",
    "    y=df_dataset[\"Falhas\"], \n",
    "    mode='lines', \n",
    "    name='Falhas',\n",
    "    line=dict(color='red')\n",
    "))\n",
    "\n",
    "fig.update_layout(\n",
    "    template='plotly_white',\n",
    "    hovermode='x unified'\n",
    ")\n",
    "fig.show()"
   ]
  },
  {
   "cell_type": "markdown",
   "id": "78b7a2af",
   "metadata": {},
   "source": []
  }
 ],
 "metadata": {
  "kernelspec": {
   "display_name": ".venv",
   "language": "python",
   "name": "python3"
  },
  "language_info": {
   "codemirror_mode": {
    "name": "ipython",
    "version": 3
   },
   "file_extension": ".py",
   "mimetype": "text/x-python",
   "name": "python",
   "nbconvert_exporter": "python",
   "pygments_lexer": "ipython3",
   "version": "3.10.12"
  }
 },
 "nbformat": 4,
 "nbformat_minor": 5
}
