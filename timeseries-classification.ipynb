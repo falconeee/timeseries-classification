{
 "cells": [
  {
   "cell_type": "markdown",
   "id": "ecc3274c",
   "metadata": {},
   "source": [
    "# Libs"
   ]
  },
  {
   "cell_type": "code",
   "execution_count": null,
   "id": "d49e133c",
   "metadata": {},
   "outputs": [],
   "source": [
    "import pandas as pd\n",
    "import numpy as np\n",
    "import xgboost as xgb\n",
    "from sklearn.metrics import f1_score, precision_score, recall_score, average_precision_score\n",
    "from tslearn.neighbors import KNeighborsTimeSeriesClassifier\n",
    "import tensorflow as tf\n",
    "from tensorflow.keras.models import Model\n",
    "from tensorflow.keras.layers import Input, Conv1D, LSTM, Dense, Dropout, GlobalMaxPooling1D, LayerNormalization, MultiHeadAttention, Add, Flatten, Concatenate\n",
    "from sklearn.model_selection import TimeSeriesSplit\n",
    "from sklearn.preprocessing import StandardScaler\n",
    "import plotly.graph_objects as go\n",
    "\n",
    "import warnings\n",
    "import os\n",
    "warnings.filterwarnings('ignore')"
   ]
  },
  {
   "cell_type": "markdown",
   "id": "ea05d315",
   "metadata": {},
   "source": [
    "# Import dataset"
   ]
  },
  {
   "cell_type": "code",
   "execution_count": null,
   "id": "4d79ec9a",
   "metadata": {},
   "outputs": [],
   "source": [
    "base_name = 'Depurador 762-28-006'\n",
    "df_dataset = pd.read_csv('data/' + base_name + '.csv', sep=\";\", decimal=\".\", encoding=\"utf-8-sig\")\n",
    "df_dataset.dropna(inplace=True)\n",
    "df_dataset"
   ]
  },
  {
   "cell_type": "code",
   "execution_count": null,
   "id": "09e9acf6",
   "metadata": {},
   "outputs": [],
   "source": [
    "df_subsistema = pd.read_csv('data/'+ base_name + '_subsistema.csv', sep=\";\", decimal=\".\", encoding=\"utf-8-sig\")\n",
    "df_subsistema"
   ]
  },
  {
   "cell_type": "markdown",
   "id": "48b24605",
   "metadata": {},
   "source": [
    "## Plot variables"
   ]
  },
  {
   "cell_type": "code",
   "execution_count": null,
   "id": "128f46d8",
   "metadata": {},
   "outputs": [],
   "source": [
    "fig = go.Figure()\n",
    "fig.add_trace(go.Scatter(\n",
    "    x=df_dataset['Timestamp'], \n",
    "    y=df_dataset[\"762P0034.PV\"], \n",
    "    mode='lines', \n",
    "    name='762P0034.PV',\n",
    "    line=dict(color='black')\n",
    "))\n",
    "fig.add_trace(go.Scatter(\n",
    "    x=df_dataset['Timestamp'], \n",
    "    y=df_dataset[\"762P0051.PV\"], \n",
    "    mode='lines', \n",
    "    name='762P0051.PV',\n",
    "    line=dict(color='red')\n",
    "))\n",
    "fig.update_layout(\n",
    "    template='plotly_white',\n",
    "    hovermode='x unified'\n",
    ")\n",
    "fig.show()"
   ]
  },
  {
   "cell_type": "markdown",
   "id": "78b7a2af",
   "metadata": {},
   "source": []
  }
 ],
 "metadata": {
  "kernelspec": {
   "display_name": ".venv",
   "language": "python",
   "name": "python3"
  },
  "language_info": {
   "codemirror_mode": {
    "name": "ipython",
    "version": 3
   },
   "file_extension": ".py",
   "mimetype": "text/x-python",
   "name": "python",
   "nbconvert_exporter": "python",
   "pygments_lexer": "ipython3",
   "version": "3.10.12"
  }
 },
 "nbformat": 4,
 "nbformat_minor": 5
}
